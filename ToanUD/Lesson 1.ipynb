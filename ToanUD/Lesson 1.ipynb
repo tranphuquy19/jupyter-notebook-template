{
 "cells": [
  {
   "cell_type": "markdown",
   "id": "a502ea24",
   "metadata": {},
   "source": [
    "# Buổi 1 (8-Sep-2021)"
   ]
  },
  {
   "cell_type": "markdown",
   "id": "faa36239",
   "metadata": {},
   "source": [
    "## Setup enviroment"
   ]
  },
  {
   "cell_type": "code",
   "execution_count": 35,
   "id": "bc40ea0b",
   "metadata": {
    "ExecuteTime": {
     "end_time": "2021-09-08T17:52:35.482502Z",
     "start_time": "2021-09-08T17:52:33.918491Z"
    }
   },
   "outputs": [
    {
     "name": "stdout",
     "output_type": "stream",
     "text": [
      "Python 3.8.10\n",
      "gcc (Ubuntu 9.3.0-17ubuntu1~20.04) 9.3.0\n",
      "ccat has been installed\n"
     ]
    }
   ],
   "source": [
    "! python3.8 --version\n",
    "! gcc --version | grep gcc\n",
    "! sudo bash ../scripts/install-ccat.sh\n",
    "%alias gccbuild gcc \"%l.cpp\" -lstdc++ -o \"%l.out\"\n",
    "%alias gccrun gcc \"%l.cpp\" -lstdc++ -o \"%l.out\" && ./\"%l.out\""
   ]
  },
  {
   "cell_type": "code",
   "execution_count": 6,
   "id": "d4848728",
   "metadata": {
    "ExecuteTime": {
     "end_time": "2021-09-08T16:54:18.680660Z",
     "start_time": "2021-09-08T16:54:17.955040Z"
    }
   },
   "outputs": [
    {
     "name": "stdout",
     "output_type": "stream",
     "text": [
      "Requirement already satisfied: tqdm in /home/vagrant/.local/lib/python3.8/site-packages (4.62.2)\r\n"
     ]
    }
   ],
   "source": [
    "! pip install tqdm"
   ]
  },
  {
   "cell_type": "markdown",
   "id": "666d2fb0",
   "metadata": {},
   "source": [
    "## Phân tích thừa số nguyên tố"
   ]
  },
  {
   "cell_type": "code",
   "execution_count": 33,
   "id": "a2d2bf6b",
   "metadata": {
    "ExecuteTime": {
     "end_time": "2021-09-08T17:52:26.261823Z",
     "start_time": "2021-09-08T17:52:26.129918Z"
    }
   },
   "outputs": [
    {
     "name": "stdout",
     "output_type": "stream",
     "text": [
      "\u001b[31m#\u001b[39;49;00m\u001b[34minclude\u001b[39;49;00m\u001b[31m<\u001b[39;49;00m\u001b[34mbits\u001b[39;49;00m\u001b[31m/\u001b[39;49;00m\u001b[34mstdc\u001b[39;49;00m\u001b[31m+\u001b[39;49;00m\u001b[31m+\u001b[39;49;00m\u001b[31m.\u001b[39;49;00m\u001b[34mh\u001b[39;49;00m\u001b[31m>\u001b[39;49;00m\r\n",
      "\r\n",
      "\u001b[34musing\u001b[39;49;00m \u001b[34mnamespace\u001b[39;49;00m \u001b[34mstd\u001b[39;49;00m\u001b[31m;\u001b[39;49;00m\r\n",
      " \r\n",
      "\u001b[34mint\u001b[39;49;00m \u001b[34mmain\u001b[39;49;00m\u001b[31m(\u001b[39;49;00m\u001b[34mint\u001b[39;49;00m \u001b[34margc\u001b[39;49;00m\u001b[31m,\u001b[39;49;00m \u001b[34mchar\u001b[39;49;00m\u001b[31m*\u001b[39;49;00m\u001b[31m*\u001b[39;49;00m \u001b[34margs\u001b[39;49;00m\u001b[31m)\u001b[39;49;00m\u001b[31m{\u001b[39;49;00m\r\n",
      "    \u001b[34mint\u001b[39;49;00m \u001b[34mn\u001b[39;49;00m \u001b[31m=\u001b[39;49;00m \u001b[34mstoi\u001b[39;49;00m\u001b[31m(\u001b[39;49;00m\u001b[34margs\u001b[39;49;00m\u001b[31m[\u001b[39;49;00m\u001b[34m1\u001b[39;49;00m\u001b[31m]\u001b[39;49;00m\u001b[31m)\u001b[39;49;00m\u001b[31m;\u001b[39;49;00m\r\n",
      "    \r\n",
      "    \u001b[34mint\u001b[39;49;00m \u001b[34mcounter\u001b[39;49;00m\u001b[31m;\u001b[39;49;00m\r\n",
      "    \r\n",
      "    \u001b[34mfor\u001b[39;49;00m\u001b[31m(\u001b[39;49;00m\u001b[34mint\u001b[39;49;00m \u001b[34mi\u001b[39;49;00m \u001b[31m=\u001b[39;49;00m \u001b[34m2\u001b[39;49;00m\u001b[31m;\u001b[39;49;00m \u001b[34mi\u001b[39;49;00m \u001b[31m<\u001b[39;49;00m\u001b[31m=\u001b[39;49;00m \u001b[34mn\u001b[39;49;00m\u001b[31m;\u001b[39;49;00m \u001b[34mi\u001b[39;49;00m\u001b[31m+\u001b[39;49;00m\u001b[31m+\u001b[39;49;00m\u001b[31m)\u001b[39;49;00m\u001b[31m{\u001b[39;49;00m\r\n",
      "        \u001b[34mcounter\u001b[39;49;00m \u001b[31m=\u001b[39;49;00m \u001b[34m0\u001b[39;49;00m\u001b[31m;\u001b[39;49;00m\r\n",
      "        \u001b[34mwhile\u001b[39;49;00m\u001b[31m(\u001b[39;49;00m\u001b[34mn\u001b[39;49;00m \u001b[31m%\u001b[39;49;00m \u001b[34mi\u001b[39;49;00m \u001b[31m=\u001b[39;49;00m\u001b[31m=\u001b[39;49;00m \u001b[34m0\u001b[39;49;00m\u001b[31m)\u001b[39;49;00m\u001b[31m{\u001b[39;49;00m\r\n",
      "            \u001b[31m+\u001b[39;49;00m\u001b[31m+\u001b[39;49;00m\u001b[34mcounter\u001b[39;49;00m\u001b[31m;\u001b[39;49;00m\r\n",
      "            \u001b[34mn\u001b[39;49;00m \u001b[31m/\u001b[39;49;00m\u001b[31m=\u001b[39;49;00m \u001b[34mi\u001b[39;49;00m\u001b[31m;\u001b[39;49;00m\r\n",
      "        \u001b[31m}\u001b[39;49;00m\r\n",
      "        \u001b[34mif\u001b[39;49;00m\u001b[31m(\u001b[39;49;00m\u001b[34mcounter\u001b[39;49;00m\u001b[31m)\u001b[39;49;00m\u001b[31m{\u001b[39;49;00m\r\n",
      "            \u001b[34mcout\u001b[39;49;00m \u001b[31m<\u001b[39;49;00m\u001b[31m<\u001b[39;49;00m \u001b[34mi\u001b[39;49;00m\u001b[31m;\u001b[39;49;00m\r\n",
      "            \u001b[34mif\u001b[39;49;00m\u001b[31m(\u001b[39;49;00m\u001b[34mcounter\u001b[39;49;00m \u001b[31m>\u001b[39;49;00m \u001b[34m1\u001b[39;49;00m\u001b[31m)\u001b[39;49;00m \u001b[34mcout\u001b[39;49;00m \u001b[31m<\u001b[39;49;00m\u001b[31m<\u001b[39;49;00m \u001b[33m\"^\"\u001b[39;49;00m \u001b[31m<\u001b[39;49;00m\u001b[31m<\u001b[39;49;00m \u001b[34mcounter\u001b[39;49;00m\u001b[31m;\u001b[39;49;00m\r\n",
      "            \u001b[34mif\u001b[39;49;00m\u001b[31m(\u001b[39;49;00m\u001b[34mn\u001b[39;49;00m \u001b[31m>\u001b[39;49;00m \u001b[34mi\u001b[39;49;00m\u001b[31m)\u001b[39;49;00m\u001b[31m{\u001b[39;49;00m\r\n",
      "                \u001b[34mcout\u001b[39;49;00m \u001b[31m<\u001b[39;49;00m\u001b[31m<\u001b[39;49;00m \u001b[33m\" * \"\u001b[39;49;00m\u001b[31m;\u001b[39;49;00m\r\n",
      "            \u001b[31m}\u001b[39;49;00m\r\n",
      "        \u001b[31m}\u001b[39;49;00m\r\n",
      "    \u001b[31m}\u001b[39;49;00m\r\n",
      "\r\n",
      "\u001b[31m}\u001b[39;49;00m"
     ]
    }
   ],
   "source": [
    "! ccat thua-so-nguyen-to.cpp"
   ]
  },
  {
   "cell_type": "code",
   "execution_count": null,
   "id": "986a0de1",
   "metadata": {},
   "outputs": [],
   "source": [
    "### Compile and Run the program"
   ]
  },
  {
   "cell_type": "code",
   "execution_count": 36,
   "id": "b649bd75",
   "metadata": {
    "ExecuteTime": {
     "end_time": "2021-09-08T17:52:40.288987Z",
     "start_time": "2021-09-08T17:52:39.222105Z"
    }
   },
   "outputs": [],
   "source": [
    "%gccbuild thua-so-nguyen-to"
   ]
  },
  {
   "cell_type": "code",
   "execution_count": 37,
   "id": "6cbcd5a7",
   "metadata": {
    "ExecuteTime": {
     "end_time": "2021-09-08T17:52:41.852073Z",
     "start_time": "2021-09-08T17:52:41.731147Z"
    }
   },
   "outputs": [
    {
     "name": "stdout",
     "output_type": "stream",
     "text": [
      "2^2 * 5"
     ]
    }
   ],
   "source": [
    "! ./thua-so-nguyen-to.out 20"
   ]
  },
  {
   "cell_type": "markdown",
   "id": "776df1bb",
   "metadata": {},
   "source": [
    "## Số các ước số, tổng & tích của chúng"
   ]
  },
  {
   "cell_type": "markdown",
   "id": "72b1e66c",
   "metadata": {},
   "source": [
    "- Phân tích thừa số nguyên tố : $$ 84 = 2^2 . 3^1 . 7^1 $$\n",
    "- Số các ước số: \n",
    "$$ T(n) = \\prod_{i=1}^{n} (\\alpha _{i} + 1) $$\n",
    "$ \\Rightarrow \\tau(84) = (2+1) (1+1) (1+1) = 12 $ (84 có 12 ước số)\n",
    "- Tổng các ước số:\n",
    "$$ \\sigma (84) = \\frac{2^{2+1} -1}{2-1} \\cdot \\frac{3^{1+1} -1}{3-1} \\cdot \\frac{7^{1+1} -1}{7-1}\n",
    "=\\frac{2^{3} -1}{2-1} \\cdot \\frac{3^{2} -1}{3-1} \\cdot \\frac{7^{2} -1}{7-1}\n",
    "= 224 $$\n",
    "- Tích các ước số:\n",
    "$$ \\mu(n) = n^{\\tau (n)/2} $$ \n",
    "$$ \\Rightarrow \\mu (84) = 84^{12/2} = 84^{6} = 351298031616 $$ "
   ]
  },
  {
   "cell_type": "code",
   "execution_count": 1,
   "id": "2f9ed9c6",
   "metadata": {
    "ExecuteTime": {
     "end_time": "2021-09-08T16:53:44.828074Z",
     "start_time": "2021-09-08T16:53:44.818285Z"
    }
   },
   "outputs": [],
   "source": [
    "def PrimeFactorStr(n):\n",
    "    dict = PrimeFactor(n)\n",
    "    str = []\n",
    "    for key in dict:\n",
    "        str.append(\" ({} ^ {}) \".format(key, dict[key]))\n",
    "\n",
    "    return \"*\".join(str)\n",
    "\n",
    "\n",
    "def PrimeFactor(n):\n",
    "    dict = {}\n",
    "\n",
    "    for i in range(2, n + 1):\n",
    "        counter = 0\n",
    "        while n % i == 0:\n",
    "            counter = counter + 1\n",
    "            n /= i\n",
    "\n",
    "        if counter:\n",
    "            dict[i] = counter\n",
    "    return dict\n",
    "\n",
    "\n",
    "def NumOfDivisors(n):\n",
    "    total = 1\n",
    "    dict = PrimeFactor(n)\n",
    "    for key in dict:\n",
    "        total *= (dict[key] + 1)\n",
    "\n",
    "    return total\n",
    "\n",
    "\n",
    "def SumOfDivisors(n):\n",
    "    total = 1\n",
    "    dict = PrimeFactor(n)\n",
    "    for key in dict:\n",
    "        total *= (key**(dict[key] + 1) - 1) / (key - 1)\n",
    "    return int(total)\n",
    "\n",
    "def ProductOfDivisors(n):\n",
    "    return int(n**(NumOfDivisors(n)/2))"
   ]
  },
  {
   "cell_type": "code",
   "execution_count": 2,
   "id": "269584e2",
   "metadata": {
    "ExecuteTime": {
     "end_time": "2021-09-08T16:53:50.360097Z",
     "start_time": "2021-09-08T16:53:48.900736Z"
    }
   },
   "outputs": [
    {
     "name": "stdout",
     "output_type": "stream",
     "text": [
      "Nhập số cần phân tích: 84\n",
      "Phân tích thừa số nguyên tố:  (2 ^ 2) * (3 ^ 1) * (7 ^ 1) \n",
      "Số các ước số: 12\n",
      "Tổng các ước số: 224\n",
      "Tích các ước số: 351298031616\n"
     ]
    }
   ],
   "source": [
    "n = int(input(\"Nhập số cần phân tích: \"))\n",
    "\n",
    "print(\"Phân tích thừa số nguyên tố: \" + PrimeFactorStr(n))\n",
    "print(\"Số các ước số: \" + str(NumOfDivisors(n)))\n",
    "print(\"Tổng các ước số: \" + str(SumOfDivisors(n)))\n",
    "print(\"Tích các ước số: \" + str(ProductOfDivisors(n)))"
   ]
  },
  {
   "cell_type": "markdown",
   "id": "ef37db8d",
   "metadata": {},
   "source": [
    "### Tìm số hoàn hảo từ 1 -> n"
   ]
  },
  {
   "cell_type": "markdown",
   "id": "d5944356",
   "metadata": {},
   "source": [
    "n là số hoàn hảo nếu $ n = \\tau(n) - n $ **hay** $ 6 = 1+2+3$"
   ]
  },
  {
   "cell_type": "code",
   "execution_count": 3,
   "id": "10095aec",
   "metadata": {
    "ExecuteTime": {
     "end_time": "2021-09-08T16:53:53.538328Z",
     "start_time": "2021-09-08T16:53:53.535146Z"
    }
   },
   "outputs": [],
   "source": [
    "def IsSoHoanHao(n):\n",
    "    return SumOfDivisors(n) - n == n"
   ]
  },
  {
   "cell_type": "code",
   "execution_count": 4,
   "id": "47f9de5a",
   "metadata": {
    "ExecuteTime": {
     "end_time": "2021-09-08T16:53:54.738157Z",
     "start_time": "2021-09-08T16:53:54.726552Z"
    }
   },
   "outputs": [
    {
     "data": {
      "text/plain": [
       "True"
      ]
     },
     "execution_count": 4,
     "metadata": {},
     "output_type": "execute_result"
    }
   ],
   "source": [
    "IsSoHoanHao(496)"
   ]
  },
  {
   "cell_type": "code",
   "execution_count": 11,
   "id": "28bdff62",
   "metadata": {
    "ExecuteTime": {
     "end_time": "2021-09-08T17:01:29.669978Z",
     "start_time": "2021-09-08T17:01:24.286211Z"
    },
    "scrolled": false
   },
   "outputs": [
    {
     "name": "stdout",
     "output_type": "stream",
     "text": [
      "Tim so hoan hao tu 1 den n2 = 10000\n"
     ]
    },
    {
     "name": "stderr",
     "output_type": "stream",
     "text": [
      "100%|██████████| 10000/10000 [00:03<00:00, 3198.07it/s]"
     ]
    },
    {
     "name": "stdout",
     "output_type": "stream",
     "text": [
      "Kết quả: [6, 28, 496, 8128]\n"
     ]
    },
    {
     "name": "stderr",
     "output_type": "stream",
     "text": [
      "\n"
     ]
    }
   ],
   "source": [
    "from tqdm import tqdm\n",
    "\n",
    "n2 = int(input(\"Tim so hoan hao tu 1 den n2 = \"))\n",
    "\n",
    "results = []\n",
    "\n",
    "for i in tqdm(range(1, n2 + 1)):\n",
    "    isSoHoanHao = IsSoHoanHao(i)\n",
    "    if isSoHoanHao:\n",
    "        results.append(i)\n",
    "    pass\n",
    "\n",
    "print(\"Kết quả: \" + str(results))"
   ]
  },
  {
   "cell_type": "markdown",
   "id": "5e94d696",
   "metadata": {
    "ExecuteTime": {
     "end_time": "2021-09-08T17:14:47.646090Z",
     "start_time": "2021-09-08T17:14:47.642962Z"
    }
   },
   "source": [
    "## Sàng Eratosthenes"
   ]
  },
  {
   "cell_type": "code",
   "execution_count": 28,
   "id": "91fe5cca",
   "metadata": {
    "ExecuteTime": {
     "end_time": "2021-09-08T17:47:33.964651Z",
     "start_time": "2021-09-08T17:47:33.958064Z"
    }
   },
   "outputs": [],
   "source": [
    "import math\n",
    "\n",
    "\n",
    "def Eratosthenes(n):\n",
    "    prime = [True for i in range(n + 1)]\n",
    "    p = 2\n",
    "    while (p * p <= n):\n",
    "        if (prime[p] == True):\n",
    "\n",
    "            # Các bội (p) => False\n",
    "            for i in range(p * p, n + 1, p):\n",
    "                prime[i] = False\n",
    "        p += 1\n",
    "\n",
    "    for p in range(2, n + 1):\n",
    "        if prime[p]:\n",
    "            print(p)"
   ]
  },
  {
   "cell_type": "code",
   "execution_count": 29,
   "id": "c1a60075",
   "metadata": {
    "ExecuteTime": {
     "end_time": "2021-09-08T17:47:35.252984Z",
     "start_time": "2021-09-08T17:47:35.247332Z"
    },
    "scrolled": true
   },
   "outputs": [
    {
     "name": "stdout",
     "output_type": "stream",
     "text": [
      "2\n",
      "3\n",
      "5\n",
      "7\n",
      "11\n",
      "13\n",
      "17\n",
      "19\n",
      "23\n",
      "29\n",
      "31\n",
      "37\n",
      "41\n",
      "43\n",
      "47\n",
      "53\n",
      "59\n",
      "61\n",
      "67\n",
      "71\n",
      "73\n",
      "79\n",
      "83\n",
      "89\n",
      "97\n"
     ]
    }
   ],
   "source": [
    "Eratosthenes(100)"
   ]
  }
 ],
 "metadata": {
  "celltoolbar": "Raw Cell Format",
  "hide_input": false,
  "kernelspec": {
   "display_name": "Python 3 (ipykernel)",
   "language": "python",
   "name": "python3"
  },
  "language_info": {
   "codemirror_mode": {
    "name": "ipython",
    "version": 3
   },
   "file_extension": ".py",
   "mimetype": "text/x-python",
   "name": "python",
   "nbconvert_exporter": "python",
   "pygments_lexer": "ipython3",
   "version": "3.8.10"
  },
  "toc": {
   "base_numbering": 1,
   "nav_menu": {},
   "number_sections": true,
   "sideBar": true,
   "skip_h1_title": false,
   "title_cell": "Table of Contents",
   "title_sidebar": "Contents",
   "toc_cell": false,
   "toc_position": {
    "height": "calc(100% - 180px)",
    "left": "10px",
    "top": "150px",
    "width": "373.188px"
   },
   "toc_section_display": true,
   "toc_window_display": true
  }
 },
 "nbformat": 4,
 "nbformat_minor": 5
}
