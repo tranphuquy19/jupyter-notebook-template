{
 "cells": [
  {
   "cell_type": "markdown",
   "id": "a502ea24",
   "metadata": {},
   "source": [
    "# Buổi 1 (8-Sep-2021)"
   ]
  },
  {
   "cell_type": "markdown",
   "id": "faa36239",
   "metadata": {},
   "source": [
    "## Setup enviroment"
   ]
  },
  {
   "cell_type": "code",
   "execution_count": 1,
   "id": "bc40ea0b",
   "metadata": {},
   "outputs": [
    {
     "name": "stdout",
     "output_type": "stream",
     "text": [
      "Python 3.8.10\n",
      "gcc (Ubuntu 9.3.0-17ubuntu1~20.04) 9.3.0\n",
      "ccat has been installed\n"
     ]
    }
   ],
   "source": [
    "! python3.8 --version\n",
    "! gcc --version | grep gcc\n",
    "! sudo bash ../scripts/install-ccat.sh\n",
    "%alias gccbuild gcc \"%l.cpp\" -lstdc++ -o \"%l.out\"\n",
    "%alias gccrun gcc \"%l.cpp\" -lstdc++ -o \"%l.out\" && ./\"%l.out\""
   ]
  },
  {
   "cell_type": "markdown",
   "id": "666d2fb0",
   "metadata": {},
   "source": [
    "## Phân tích thừa số nguyên tố"
   ]
  },
  {
   "cell_type": "code",
   "execution_count": 2,
   "id": "a2d2bf6b",
   "metadata": {},
   "outputs": [
    {
     "name": "stdout",
     "output_type": "stream",
     "text": [
      "\u001b[31m#\u001b[39;49;00m\u001b[34minclude\u001b[39;49;00m\u001b[31m<\u001b[39;49;00m\u001b[34mbits\u001b[39;49;00m\u001b[31m/\u001b[39;49;00m\u001b[34mstdc\u001b[39;49;00m\u001b[31m+\u001b[39;49;00m\u001b[31m+\u001b[39;49;00m\u001b[31m.\u001b[39;49;00m\u001b[34mh\u001b[39;49;00m\u001b[31m>\u001b[39;49;00m\r\n",
      "\r\n",
      "\u001b[34musing\u001b[39;49;00m \u001b[34mnamespace\u001b[39;49;00m \u001b[34mstd\u001b[39;49;00m\u001b[31m;\u001b[39;49;00m\r\n",
      " \r\n",
      "\u001b[34mint\u001b[39;49;00m \u001b[34mmain\u001b[39;49;00m\u001b[31m(\u001b[39;49;00m\u001b[34mint\u001b[39;49;00m \u001b[34margc\u001b[39;49;00m\u001b[31m,\u001b[39;49;00m \u001b[34mchar\u001b[39;49;00m\u001b[31m*\u001b[39;49;00m\u001b[31m*\u001b[39;49;00m \u001b[34margs\u001b[39;49;00m\u001b[31m)\u001b[39;49;00m\u001b[31m{\u001b[39;49;00m\r\n",
      "    \u001b[34mint\u001b[39;49;00m \u001b[34mn\u001b[39;49;00m \u001b[31m=\u001b[39;49;00m \u001b[34mstoi\u001b[39;49;00m\u001b[31m(\u001b[39;49;00m\u001b[34margs\u001b[39;49;00m\u001b[31m[\u001b[39;49;00m\u001b[34m1\u001b[39;49;00m\u001b[31m]\u001b[39;49;00m\u001b[31m)\u001b[39;49;00m\u001b[31m;\u001b[39;49;00m\r\n",
      "    \r\n",
      "    \u001b[34mint\u001b[39;49;00m \u001b[34mcounter\u001b[39;49;00m\u001b[31m;\u001b[39;49;00m\r\n",
      "    \r\n",
      "    \u001b[34mfor\u001b[39;49;00m\u001b[31m(\u001b[39;49;00m\u001b[34mint\u001b[39;49;00m \u001b[34mi\u001b[39;49;00m \u001b[31m=\u001b[39;49;00m \u001b[34m2\u001b[39;49;00m\u001b[31m;\u001b[39;49;00m \u001b[34mi\u001b[39;49;00m \u001b[31m<\u001b[39;49;00m\u001b[31m=\u001b[39;49;00m \u001b[34mn\u001b[39;49;00m\u001b[31m;\u001b[39;49;00m \u001b[34mi\u001b[39;49;00m\u001b[31m+\u001b[39;49;00m\u001b[31m+\u001b[39;49;00m\u001b[31m)\u001b[39;49;00m\u001b[31m{\u001b[39;49;00m\r\n",
      "        \u001b[34mcounter\u001b[39;49;00m \u001b[31m=\u001b[39;49;00m \u001b[34m0\u001b[39;49;00m\u001b[31m;\u001b[39;49;00m\r\n",
      "        \u001b[34mwhile\u001b[39;49;00m\u001b[31m(\u001b[39;49;00m\u001b[34mn\u001b[39;49;00m \u001b[31m%\u001b[39;49;00m \u001b[34mi\u001b[39;49;00m \u001b[31m=\u001b[39;49;00m\u001b[31m=\u001b[39;49;00m \u001b[34m0\u001b[39;49;00m\u001b[31m)\u001b[39;49;00m\u001b[31m{\u001b[39;49;00m\r\n",
      "            \u001b[31m+\u001b[39;49;00m\u001b[31m+\u001b[39;49;00m\u001b[34mcounter\u001b[39;49;00m\u001b[31m;\u001b[39;49;00m\r\n",
      "            \u001b[34mn\u001b[39;49;00m \u001b[31m/\u001b[39;49;00m\u001b[31m=\u001b[39;49;00m \u001b[34mi\u001b[39;49;00m\u001b[31m;\u001b[39;49;00m\r\n",
      "        \u001b[31m}\u001b[39;49;00m\r\n",
      "        \u001b[34mif\u001b[39;49;00m\u001b[31m(\u001b[39;49;00m\u001b[34mcounter\u001b[39;49;00m\u001b[31m)\u001b[39;49;00m\u001b[31m{\u001b[39;49;00m\r\n",
      "            \u001b[34mcout\u001b[39;49;00m \u001b[31m<\u001b[39;49;00m\u001b[31m<\u001b[39;49;00m \u001b[34mi\u001b[39;49;00m\u001b[31m;\u001b[39;49;00m\r\n",
      "            \u001b[34mif\u001b[39;49;00m\u001b[31m(\u001b[39;49;00m\u001b[34mcounter\u001b[39;49;00m \u001b[31m>\u001b[39;49;00m \u001b[34m1\u001b[39;49;00m\u001b[31m)\u001b[39;49;00m \u001b[34mcout\u001b[39;49;00m \u001b[31m<\u001b[39;49;00m\u001b[31m<\u001b[39;49;00m \u001b[33m\"^\"\u001b[39;49;00m \u001b[31m<\u001b[39;49;00m\u001b[31m<\u001b[39;49;00m \u001b[34mcounter\u001b[39;49;00m\u001b[31m;\u001b[39;49;00m\r\n",
      "            \u001b[34mif\u001b[39;49;00m\u001b[31m(\u001b[39;49;00m\u001b[34mn\u001b[39;49;00m \u001b[31m>\u001b[39;49;00m \u001b[34mi\u001b[39;49;00m\u001b[31m)\u001b[39;49;00m\u001b[31m{\u001b[39;49;00m\r\n",
      "                \u001b[34mcout\u001b[39;49;00m \u001b[31m<\u001b[39;49;00m\u001b[31m<\u001b[39;49;00m \u001b[33m\" * \"\u001b[39;49;00m\u001b[31m;\u001b[39;49;00m\r\n",
      "            \u001b[31m}\u001b[39;49;00m\r\n",
      "        \u001b[31m}\u001b[39;49;00m\r\n",
      "    \u001b[31m}\u001b[39;49;00m\r\n",
      "\r\n",
      "\u001b[31m}\u001b[39;49;00m"
     ]
    }
   ],
   "source": [
    "! ccat thua-so-nguyen-to.cpp"
   ]
  },
  {
   "cell_type": "code",
   "execution_count": 3,
   "id": "986a0de1",
   "metadata": {},
   "outputs": [],
   "source": [
    "### Compile and Run the program"
   ]
  },
  {
   "cell_type": "code",
   "execution_count": 4,
   "id": "b649bd75",
   "metadata": {},
   "outputs": [],
   "source": [
    "%gccbuild thua-so-nguyen-to"
   ]
  },
  {
   "cell_type": "code",
   "execution_count": 5,
   "id": "6cbcd5a7",
   "metadata": {},
   "outputs": [
    {
     "name": "stdout",
     "output_type": "stream",
     "text": [
      "2^2 * 5"
     ]
    }
   ],
   "source": [
    "! ./thua-so-nguyen-to.out 20"
   ]
  }
 ],
 "metadata": {
  "hide_input": false,
  "kernelspec": {
   "display_name": "Python 3 (ipykernel)",
   "language": "python",
   "name": "python3"
  },
  "language_info": {
   "codemirror_mode": {
    "name": "ipython",
    "version": 3
   },
   "file_extension": ".py",
   "mimetype": "text/x-python",
   "name": "python",
   "nbconvert_exporter": "python",
   "pygments_lexer": "ipython3",
   "version": "3.8.10"
  },
  "toc": {
   "base_numbering": 1,
   "nav_menu": {},
   "number_sections": true,
   "sideBar": true,
   "skip_h1_title": false,
   "title_cell": "Table of Contents",
   "title_sidebar": "Contents",
   "toc_cell": false,
   "toc_position": {
    "height": "calc(100% - 180px)",
    "left": "10px",
    "top": "150px",
    "width": "373.188px"
   },
   "toc_section_display": true,
   "toc_window_display": true
  }
 },
 "nbformat": 4,
 "nbformat_minor": 5
}
